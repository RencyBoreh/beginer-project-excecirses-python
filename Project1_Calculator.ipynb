{
  "nbformat": 4,
  "nbformat_minor": 0,
  "metadata": {
    "colab": {
      "provenance": []
    },
    "kernelspec": {
      "name": "python3",
      "display_name": "Python 3"
    },
    "language_info": {
      "name": "python"
    }
  },
  "cells": [
    {
      "cell_type": "code",
      "execution_count": 12,
      "metadata": {
        "colab": {
          "base_uri": "https://localhost:8080/",
          "height": 87
        },
        "id": "_KxdZDTjWv-k",
        "outputId": "6662d64d-d5b1-4617-b3d0-822d1f9e014d"
      },
      "outputs": [
        {
          "name": "stdout",
          "output_type": "stream",
          "text": [
            "Enter The First Number:100\n",
            "Enter The Second Number:30\n",
            "What Calculation do you want to do?(-,+,*,/,%):%\n"
          ]
        },
        {
          "output_type": "execute_result",
          "data": {
            "text/plain": [
              "'The modulus of 100 and 30 is:10'"
            ],
            "application/vnd.google.colaboratory.intrinsic+json": {
              "type": "string"
            }
          },
          "metadata": {},
          "execution_count": 12
        }
      ],
      "source": [
        "Num1=int(input(\"Enter The First Number:\"))\n",
        "Num2=int(input(\"Enter The Second Number:\"))\n",
        "#Name=input(\"Enter Your Name:\")\n",
        "choice=input(\"What Calculation do you want to do?(-,+,*,/,%):\")\n",
        "def calc():\n",
        "\n",
        "  if choice==\"-\":\n",
        "    result=Num1-Num2\n",
        "    return f\"The Result of {Num1} subtract by {Num2} is:{result}\"\n",
        "  elif choice==\"+\":\n",
        "    result=Num1 + Num2\n",
        "    return f\"The Result of {Num1} added to {Num2} is:{result}\"\n",
        "  elif choice==\"*\":\n",
        "    result=Num1 * Num2\n",
        "    return f\"The Result of {Num1} multiplied by {Num2} is:{result}\"\n",
        "  elif choice==\"/\":\n",
        "    result=Num1/Num2\n",
        "    return f\"The Result of Dividing {Num1} by {Num2} is:{result}\"\n",
        "  elif choice==\"%\":\n",
        "    result=Num1%Num2\n",
        "    return f\"The modulus of {Num1} and {Num2} is:{result}\"\n",
        "  else:\n",
        "    return f\"Please Enter Valid Choice!\"\n",
        "calc()"
      ]
    },
    {
      "cell_type": "code",
      "source": [
        "1"
      ],
      "metadata": {
        "id": "ycs2TdLYZG37"
      },
      "execution_count": null,
      "outputs": []
    }
  ]
}
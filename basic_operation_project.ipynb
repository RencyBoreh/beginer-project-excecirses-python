{
  "nbformat": 4,
  "nbformat_minor": 0,
  "metadata": {
    "colab": {
      "provenance": []
    },
    "kernelspec": {
      "name": "python3",
      "display_name": "Python 3"
    },
    "language_info": {
      "name": "python"
    }
  },
  "cells": [
    {
      "cell_type": "code",
      "execution_count": 4,
      "metadata": {
        "colab": {
          "base_uri": "https://localhost:8080/",
          "height": 87
        },
        "id": "zzCPYtJFmHOt",
        "outputId": "69ecf805-bdf7-4737-eb4f-336c2c16d666"
      },
      "outputs": [
        {
          "name": "stdout",
          "output_type": "stream",
          "text": [
            "Enter The First Number:10\n",
            "Enter The Second Number:20\n",
            "Enter Choice Between(+,-,*,/):*\n"
          ]
        },
        {
          "output_type": "execute_result",
          "data": {
            "text/plain": [
              "'The result os multiplying 10 and 20:200'"
            ],
            "application/vnd.google.colaboratory.intrinsic+json": {
              "type": "string"
            }
          },
          "metadata": {},
          "execution_count": 4
        }
      ],
      "source": [
        "#Create a program that takes two numbers from the user and performs addition, subtraction, multiplication, and division, then prints the results\n",
        "Number1=int(input(\"Enter The First Number:\"))\n",
        "Number2=int(input(\"Enter The Second Number:\"))\n",
        "choice=input(\"Enter Choice Between(+,-,*,/):\")\n",
        "def calculation():\n",
        "  if choice==\"+\":\n",
        "    result=Number1+Number2\n",
        "    return f\"The result of adding {Number1} and {Number2}:{result}\"\n",
        "  elif choice==\"-\":\n",
        "    result=Number1-Number2\n",
        "    return f\"The result of subtracting {Number1} and {Number2}:{result}\"\n",
        "  elif choice==\"*\":\n",
        "    result=Number1*Number2\n",
        "    return f\"The result os multiplying {Number1} and {Number2}:{result}\"\n",
        "  elif choice==\"/\":\n",
        "    result=Number1/Number2\n",
        "    return f\"The result of dividing {Number1} and {Number2}:{result}\"\n",
        "  else:\n",
        "    print(\"Please Enter A Valid Choice!\")\n",
        "calculation()"
      ]
    },
    {
      "cell_type": "code",
      "source": [
        "1#Correction\n",
        "def calculation(Number1,Number2,choice):\n",
        "  if choice==\"+\":\n",
        "    result=Number1+Number2\n",
        "    return f\"The result of adding {Number1} and {Number2}:{result}\"\n",
        "  elif choice==\"-\":\n",
        "    result=Number1-Number2\n",
        "    return f\"The result of subtracting {Number1} and {Number2}:{result}\"\n",
        "  elif choice==\"*\":\n",
        "    result=Number1*Number2\n",
        "    return f\"The result os multiplying {Number1} and {Number2}:{result}\"\n",
        "  elif choice==\"/\":\n",
        "    result=Number1/Number2\n",
        "    return f\"The result of dividing {Number1} and {Number2}:{result}\"\n",
        "  else:\n",
        "    print(\"Please Enter A Valid Choice!\")\n",
        "Number1=int(input(\"Enter The First Number:\"))\n",
        "Number2=int(input(\"Enter The Second Number:\"))\n",
        "choice=input(\"Enter Choice Between(+,-,*,/):\")\n",
        "print(calculation(Number1,Number2,choice))\n",
        "2"
      ],
      "metadata": {
        "colab": {
          "base_uri": "https://localhost:8080/"
        },
        "id": "KL4QwelTn_uK",
        "outputId": "ddbfc813-bb92-404f-a6ed-ca19530b3b96"
      },
      "execution_count": 7,
      "outputs": [
        {
          "output_type": "stream",
          "name": "stdout",
          "text": [
            "Enter The First Number:10\n",
            "Enter The Second Number:20\n",
            "Enter Choice Between(+,-,*,/):+\n",
            "The result of adding 10 and 20:30\n"
          ]
        },
        {
          "output_type": "execute_result",
          "data": {
            "text/plain": [
              "2"
            ]
          },
          "metadata": {},
          "execution_count": 7
        }
      ]
    },
    {
      "cell_type": "code",
      "source": [
        "#Write a program to calculate the area of a circle given its radius. Use the formula:\n",
        "import math\n",
        "radius=int(input(\"Enter The Radius of a circle(cm):\"))\n",
        "Pi=math.pi\n",
        "area=Pi*(radius**2)\n",
        "print(f\"The area of a circle with the radius of {radius}cm is :{area}\")\n"
      ],
      "metadata": {
        "colab": {
          "base_uri": "https://localhost:8080/"
        },
        "id": "I377aiBQpP1a",
        "outputId": "64cda172-f7b4-4e33-d906-3301c7a0e546"
      },
      "execution_count": 9,
      "outputs": [
        {
          "output_type": "stream",
          "name": "stdout",
          "text": [
            "Enter The Radius of a circle(cm):10\n",
            "The area of a circle with the radius of 10cm is :314.1592653589793\n"
          ]
        }
      ]
    },
    {
      "cell_type": "code",
      "source": [
        "#correction\n",
        "import math\n",
        "try:\n",
        "  radius=float(input(\"Enter The Radius of a Circle(cm):\"))\n",
        "  if radius < 0:\n",
        "    print(\"The radius cannot be less than Zero(o)!\")\n",
        "  else:\n",
        "    pi=math.pi\n",
        "    area=pi*(radius**2)\n",
        "    print(f\"The area of a circle with the radius of {radius}cm is :{area:.1f} square cm\")\n",
        "except ValueError:\n",
        "   print(\"Enter a Valid Interger!\")\n"
      ],
      "metadata": {
        "colab": {
          "base_uri": "https://localhost:8080/"
        },
        "id": "FaPGyfmjq5Z0",
        "outputId": "d409836c-ccd5-42d6-f46c-d1625d0cc765"
      },
      "execution_count": 17,
      "outputs": [
        {
          "output_type": "stream",
          "name": "stdout",
          "text": [
            "Enter The Radius of a Circle(cm):23\n",
            "The area of a circle with the radius of 23.0cm is :1661.9 square cm\n"
          ]
        }
      ]
    },
    {
      "cell_type": "code",
      "source": [],
      "metadata": {
        "id": "Lr0Pkc-EtbzC"
      },
      "execution_count": null,
      "outputs": []
    }
  ]
}
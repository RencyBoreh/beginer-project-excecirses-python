{
  "nbformat": 4,
  "nbformat_minor": 0,
  "metadata": {
    "colab": {
      "provenance": []
    },
    "kernelspec": {
      "name": "python3",
      "display_name": "Python 3"
    },
    "language_info": {
      "name": "python"
    }
  },
  "cells": [
    {
      "cell_type": "code",
      "execution_count": 3,
      "metadata": {
        "colab": {
          "base_uri": "https://localhost:8080/"
        },
        "id": "OJarSyCyuqEG",
        "outputId": "71914fc7-b0c9-4978-b4e3-56e3541de8e2"
      },
      "outputs": [
        {
          "output_type": "stream",
          "name": "stdout",
          "text": [
            "Enter Your Name:Rency Jeptanui boreh\n",
            "Hello Rency Jeptanui boreh.Welcome!\n",
            "RENCY JEPTANUI BOREH\n",
            "rency jeptanui boreh\n",
            "Rency Jeptanui Boreh\n"
          ]
        }
      ],
      "source": [
        "#Ask the user to input their name. Print a welcome message that includes their name in uppercase, lowercase, and title case\n",
        "UserName=input(\"Enter Your Name:\")\n",
        "print(f\"Hello {UserName}.Welcome!\")\n",
        "print(UserName.upper())\n",
        "print(UserName.lower())\n",
        "print(UserName.title())"
      ]
    },
    {
      "cell_type": "code",
      "source": [
        "#Name Length: Write a program that takes the user's first and last name and prints the total number of characters (excluding spaces)\n",
        "FirstName=input(\"Enter The First Name:\")\n",
        "LastName=input(\"Enter The Las Name:\")\n",
        "FullName=FirstName+LastName\n",
        "print(len(FullName))"
      ],
      "metadata": {
        "colab": {
          "base_uri": "https://localhost:8080/"
        },
        "id": "v9kAVgSpvIcN",
        "outputId": "246b6999-be0b-4af0-bf97-28b61adf26f2"
      },
      "execution_count": 6,
      "outputs": [
        {
          "output_type": "stream",
          "name": "stdout",
          "text": [
            "Enter The First Name:Rency\n",
            "Enter The Las Name:Boreh\n",
            "10\n"
          ]
        }
      ]
    },
    {
      "cell_type": "code",
      "source": [],
      "metadata": {
        "id": "EHWDgxuWw0u7"
      },
      "execution_count": null,
      "outputs": []
    }
  ]
}